{
 "cells": [
  {
   "cell_type": "markdown",
   "metadata": {},
   "source": [
    "# Tech Teaching: Jupyter Notebook Orientation\n",
    "\n",
    "Welcome to your guided tour of Jupyter notebooks. This workspace is designed for professionals who want to capture research, build legal arguments, and coordinate sovereignty-focused projects without becoming software engineers.\n",
    "\n",
    "Use this notebook to explore Markdown formatting, insert exhibits, experiment with LaTeX math, and practice versioning your notes with Git."
   ]
  },
  {
   "cell_type": "markdown",
   "metadata": {},
   "source": [
    "## How to Use This Notebook\n",
    "\n",
    "- Start by running the next cell to generate a table of contents (re-run it whenever you change headings).\n",
    "- Follow each section in order during the workshop, or adapt the flow for your own learning circle.\n",
    "- Capture reflections directly beneath the prompts—Markdown cells are perfect for narrative text, citations, and checklists."
   ]
  },
  {
   "cell_type": "code",
   "execution_count": null,
   "metadata": {},
   "outputs": [],
   "source": [
    "from IPython.display import Markdown, display\n",
    "\n",
    "try:\n",
    "    from local_automation import generate_toc_nb\n",
    "except ImportError as exc:\n",
    "    display(Markdown(\"_Could not load `local_automation.generate_toc_nb`. Ensure `local_automation.py` is in the same folder as this notebook._\"))\n",
    "    raise exc\n",
    "\n",
    "generate_toc_nb(skip_level=3)"
   ]
  },
  {
   "cell_type": "markdown",
   "metadata": {},
   "source": [
    "# Workshop Agenda\n",
    "\n",
    "## Opening Circle\n",
    "- Introductions and personal goals for using notebooks in legal and sovereignty work.\n",
    "- Quick poll: comfort level with Python, Git, and LaTeX.\n",
    "- Ground rules for collaborative note taking and knowledge sharing.\n",
    "\n",
    "## JupyterLab Deep Dive\n",
    "- Explore the Launcher, file browser, and command palette.\n",
    "- Demonstrate Markdown vs. code cells and when to use each.\n",
    "- Highlight autosave, checkpoints, and exporting workflows.\n",
    "\n",
    "## Formatting Power-Ups\n",
    "- Practice Markdown lists, callouts, and inline citations.\n",
    "- Introduce LaTeX-style math for case statistics and timelines.\n",
    "- Attach exhibits (PDF, images) and link to external case law.\n",
    "\n",
    "## Organizing Knowledge\n",
    "- Use the table of contents generator to keep long notebooks navigable.\n",
    "- Discuss naming conventions and folder structures for ongoing matters.\n",
    "- Share versioning strategies: daily snapshots, Git commits, and remote backups.\n",
    "\n",
    "## Closing Reflection\n",
    "- Capture personal action items for integrating notebooks into daily work.\n",
    "- Identify open questions and support needed before the next session."
   ]
  },
  {
   "cell_type": "markdown",
   "metadata": {},
   "source": [
    "## Setup Recap Checklist\n",
    "- Confirm Python 3 and JupyterLab install (see README for per-OS instructions).\n",
    "- Launch `jupyter lab` from your virtual environment.\n",
    "- Open this notebook and run the TOC cell above.\n",
    "- Optional: connect to GitHub by following the remote setup guide.\n",
    "- Bookmark useful documentation: [JupyterLab](https://jupyterlab.readthedocs.io/en/stable/), [Markdown Guide](https://www.markdownguide.org/), [Git Basics](https://git-scm.com/book/en/v2)."
   ]
  },
  {
   "cell_type": "markdown",
   "metadata": {},
   "source": [
    "## Hands-On Prompts\n",
    "1. Draft a Markdown cell outlining a legal scenario or research topic you are exploring.\n",
    "2. Add a LaTeX equation or expression representing a key metric or timeline.\n",
    "3. Create a checklist for evidence gathering or client communication steps.\n",
    "4. Insert a hyperlink to an external reference or uploaded exhibit.\n",
    "5. Save a checkpoint, then practice restoring it to understand version history."
   ]
  },
  {
   "cell_type": "markdown",
   "metadata": {},
   "source": [
    "## Reflection & Next Steps\n",
    "- What workflows felt natural or empowering?\n",
    "- Where do you need more templates, automation, or support?\n",
    "- Which colleagues or partners would benefit from shared notebooks?\n",
    "- Schedule: note the next workshop date or self-study milestone.\n",
    "- Optional: set up reminders to review Git commits weekly."
   ]
  },
  {
   "cell_type": "code",
   "execution_count": null,
   "metadata": {
    "tags": [
     "ai-preprompt"
    ]
   },
   "outputs": [],
   "source": [
    "preprompt = \"\"\"* # jupyter notebook formatting guide for ai helpers\n",
    "    * please avoid headings that start with #, ##, ###, ####\n",
    "    * begin every instructional line with an asterisk ( * ) to keep notebooks tidy\n",
    "        * feel free to emphasize key ideas with leading symbols like # or #### after the bullet\n",
    "    * use indentation generously to show structure and sub-points\n",
    "        * remember double asterisks for **bold** emphasis and single for *italics*\n",
    "    * tables, figures, or code blocks may stand alone when it improves readability\n",
    "    * ensure output copies cleanly by keeping these directions inside a code cell\n",
    "    * acknowledge that the table of contents helper skips headings deeper than level three\n",
    "        * this keeps the generated navigation focused on major sections only\n",
    "\"\"\"\n",
    "print(preprompt)"
   ]
  },
  {
   "cell_type": "markdown",
   "metadata": {},
   "source": [
    "## Additional Resources\n",
    "- *JupyterLab Keyboard Shortcuts*: Press `Esc`, then `H` to display the shortcut overlay.\n",
    "- *nbconvert Export Options*: Use the command palette and search for \"Export Notebook As\" to produce PDF, HTML, or Markdown reports.\n",
    "- *Version Control Tips*: Commit descriptive messages such as `Add witness timeline` or `Update jurisdiction research` to stay organized.\n",
    "- *Community Support*: Browse the [Jupyter Discourse forum](https://discourse.jupyter.org/) or the [Law & Tech subreddits](https://www.reddit.com/r/LawFirm/) for workflows from peers.\n",
    "- *Next Experiments*: Try JupyterLab extensions like the Table of Contents sidebar or collaboration hubs for real-time editing."
   ]
  }
 ],
 "metadata": {
  "kernelspec": {
   "display_name": "Python 3",
   "language": "python",
   "name": "python3"
  },
  "language_info": {
   "name": "python",
   "version": ""
  }
 },
 "nbformat": 4,
 "nbformat_minor": 5
}
